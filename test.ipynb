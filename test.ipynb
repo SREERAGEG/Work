{
 "cells": [
  {
   "cell_type": "code",
   "execution_count": 6,
   "id": "c72a8ab6",
   "metadata": {},
   "outputs": [
    {
     "name": "stdout",
     "output_type": "stream",
     "text": [
      "{'First_name': 'Aevy', 'Last_name': 'Jackson', 'Address': 'A803', 'City': 'Dover', 'State': 'Delaware', 'ZIP': '19901', 'Contact_number': '+1 6193248725', 'Email': 'anoj.viswanathan@gmail.com', 'Medical_Insurance_Name': 'Aetna', 'Primary_Insurance_Member_ID': '5676532q'}\n"
     ]
    }
   ],
   "source": [
    "import json\n",
    "\n",
    "# Open and read the JSON file\n",
    "with open('data.json', 'r') as file:\n",
    "    data = json.load(file)\n",
    "user_data=dict()\n",
    "# Print the data\n",
    "submit_data=data[0].get(\"submit_data\")\n",
    "for i in submit_data:\n",
    "    if \"Patient's First Name\" == i.get(\"label\"):\n",
    "        user_data[\"First_name\"]=i.get(\"value\")\n",
    "    \n",
    "    if \"Patient's Last Name\" == i.get(\"label\"):\n",
    "        user_data[\"Last_name\"]=i.get(\"value\")\n",
    "\n",
    "    if \"Policy Holder \" == i.get(\"label\"):\n",
    "        user_data[\"DOB\"]=i.get(\"value\")\n",
    "\n",
    "    if \"Patient's Address\" == i.get(\"label\"):\n",
    "        user_data[\"Address\"]=i.get(\"value\")\n",
    "\n",
    "    if \"City\" == i.get(\"label\"):\n",
    "        user_data[\"City\"]=i.get(\"value\")\n",
    "\n",
    "    if \"State\" == i.get(\"label\"):\n",
    "        user_data[\"State\"]=i.get(\"value\")\n",
    "\n",
    "    if \"ZIP\" == i.get(\"label\"):\n",
    "        user_data[\"ZIP\"]=i.get(\"value\")\n",
    "\n",
    "    if \"Patient Email ID\" == i.get(\"label\"):\n",
    "        user_data[\"Email\"]=i.get(\"value\")\n",
    "\n",
    "    if \"Patient's contact number\" == i.get(\"label\"):\n",
    "        user_data[\"Contact_number\"]=i.get(\"value\")\n",
    "\n",
    "    if \"Medical Insurance Name\" == i.get(\"label\"):\n",
    "        user_data[\"Medical_Insurance_Name\"]=i.get(\"value\")\n",
    "\n",
    "    if \"Primary Insurance Member ID\" == i.get(\"label\"):\n",
    "        user_data[\"Primary_Insurance_Member_ID\"]=i.get(\"value\")\n",
    "\n",
    "print(user_data)\n"
   ]
  }
 ],
 "metadata": {
  "kernelspec": {
   "display_name": "venv",
   "language": "python",
   "name": "python3"
  },
  "language_info": {
   "codemirror_mode": {
    "name": "ipython",
    "version": 3
   },
   "file_extension": ".py",
   "mimetype": "text/x-python",
   "name": "python",
   "nbconvert_exporter": "python",
   "pygments_lexer": "ipython3",
   "version": "3.12.3"
  }
 },
 "nbformat": 4,
 "nbformat_minor": 5
}
